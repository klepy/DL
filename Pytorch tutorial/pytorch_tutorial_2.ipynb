{
  "nbformat": 4,
  "nbformat_minor": 0,
  "metadata": {
    "colab": {
      "name": "pytorch_tutorials.ipynb",
      "provenance": [],
      "collapsed_sections": [],
      "authorship_tag": "ABX9TyOUJz5JrzqJS0dZccmqKk16",
      "include_colab_link": true
    },
    "kernelspec": {
      "name": "python3",
      "display_name": "Python 3"
    },
    "language_info": {
      "name": "python"
    },
    "accelerator": "GPU"
  },
  "cells": [
    {
      "cell_type": "markdown",
      "metadata": {
        "id": "view-in-github",
        "colab_type": "text"
      },
      "source": [
        "<a href=\"https://colab.research.google.com/github/klepy/DL/blob/master/pytorch_tutorial_2.ipynb\" target=\"_parent\"><img src=\"https://colab.research.google.com/assets/colab-badge.svg\" alt=\"Open In Colab\"/></a>"
      ]
    },
    {
      "cell_type": "markdown",
      "metadata": {
        "id": "_QdNOFtXQ-JR"
      },
      "source": [
        "# Tensors\n",
        "##준비 운동: NumPy\n",
        "PyTorch를 소개하기 전에, 먼저 NumPy를 사용하여 신경망을 구성해보겠습니다.\n",
        "\n",
        "NumPy는 N차원 배열 객체와 함께 이러한 배열들을 조작하기 위한 다양한 함수들을 제공합니다. NumPy는 과학적 분야의 연산을 위한 포괄적인 프레임워크 (Framework)입니다; NumPy는 연산 그래프(computation graph)나 딥러닝, 변화도(gradient)에 대해서는 알지 못합니다. 하지만 NumPy 연산을 사용하여 순전파 단계와 역전파 단계를 직접 구현함으로써, 2계층(two-layer)을 갖는 신경망이 무작위의 데이터를 맞추도록 할 수 있습니다:"
      ]
    },
    {
      "cell_type": "code",
      "metadata": {
        "id": "5ltCesGdRCtn"
      },
      "source": [
        "# -*- coding: utf-8 -*-\n",
        "import numpy as np\n",
        "\n",
        "# N은 배치 크기, D_in은 입력의 차원\n",
        "# H는 은닉층의 차원, D_out은 출력  차원\n",
        "N, D_in, H, D_out = 64, 1000, 100, 10\n",
        "\n",
        "# 무작위의 입력과 출력 데이터를 생성\n",
        "x = np.random.randn(N, D_in)\n",
        "y = np.random.randn(N, D_out)\n",
        "\n",
        "# 무작위로 가중치 초기화\n",
        "w1 = np.random.randn(D_in, H)\n",
        "w2 = np.random.randn(H, D_out)\n",
        "\n",
        "learning_rate = 1e-6\n",
        "for t in range(500):\n",
        "  # 순전파 단계: 예측값 y 계산\n",
        "  h = x.dot(w1)\n",
        "  h_relu = np.maximum(h,0)\n",
        "  y_pred = h_relu.dot(w2)\n",
        "\n",
        "  # loss 계산하고 출력\n",
        "  loss = np.square(y_pred - y).sum()\n",
        "  print(t, loss)\n",
        "\n",
        "  # 손실에 따른 w1, w2의 변화도를 계산하고 역전파\n",
        "  grad_y_pred = 2.0 * (y_pred - y)\n",
        "  grad_w2 = h_relu.T.dot(grad_y_pred)\n",
        "  grad_h_relu = grad_y_pred.dot(w2.T)\n",
        "  grad_h = grad_h_relu.copy()\n",
        "  grad_h[h<0] = 0\n",
        "  grad_w1 = x.T.dot(grad_h)\n",
        "\n",
        "  # 가중치를 갱신합니다\n",
        "  w1 -= learning_rate * grad_w1\n",
        "  w2 -= learning_rate * grad_w2\n"
      ],
      "execution_count": null,
      "outputs": []
    },
    {
      "cell_type": "markdown",
      "metadata": {
        "id": "pumvOwqRU-69"
      },
      "source": [
        "# PyTorch: Tensors\n",
        "NumPy는 훌륭한 프레임워크지만, GPU를 사용하여 수치 연산을 가속화할 수는 없습니다. 현대의 심층 신경망에서 GPU는 종종 50배 또는 그 이상 의 속도 향상을 제공하기 때문에, 안타깝게도 NumPy는 현대의 딥러닝에는 충분치 않습니다.\n",
        "\n",
        "이번에는 PyTorch의 기본적인 개념인 Tensor 에 대해서 알아보겠습니다. PyTorch Tensor는 개념적으로 NumPy 배열과 동일합니다: Tensor는 N차원 배열이며, PyTorch는 Tensor 연산을 위한 다양한 함수들을 제공합니다. NumPy 배열처럼 PyTorch Tensor는 딥러닝이나 연산 그래프, 변화도는 알지 못하며, 과학적 분야의 연산을 위한 포괄적인 도구입니다.\n",
        "\n",
        "그러나 NumPy와는 달리, PyTorch Tensor는 GPU를 활용하여 수치 연산을 가속화할 수 있습니다. GPU에서 PyTorch Tensor를 실행하기 위해서는 단지 새로운 자료형으로 변환(Cast)해주기만 하면 됩니다.\n",
        "\n",
        "여기에서는 PyTorch Tensor를 사용하여 2계층의 신경망이 무작위 데이터를 맞추도록 할 것입니다. 위의 NumPy 예제에서와 같이 신경망의 순전파 단계와 역전파 단계는 직접 구현하겠습니다."
      ]
    },
    {
      "cell_type": "code",
      "metadata": {
        "id": "vAX4SVrnVKkX"
      },
      "source": [
        "# -*- coding: utf-8 -*-\n",
        "\n",
        "import torch\n",
        "\n",
        "\n",
        "dtype = torch.float\n",
        "device = torch.device(\"cpu\")\n",
        "# device = torch.device(\"cuda:0\") # GPU에서 실행하려면 이 주석을 제거하세요.\n",
        "\n",
        "# N은 배치 크기이며, D_in은 입력의 차원입니다;\n",
        "# H는 은닉층의 차원이며, D_out은 출력 차원입니다.\n",
        "N, D_in, H, D_out = 64, 1000, 100, 10\n",
        "\n",
        "# 무작위의 입력과 출력 데이터를 생성합니다.\n",
        "x = torch.randn(N, D_in, device=device, dtype=dtype)\n",
        "y = torch.randn(N, D_out, device=device, dtype=dtype)\n",
        "\n",
        "# 무작위로 가중치를 초기화합니다.\n",
        "w1 = torch.randn(D_in, H, device=device, dtype=dtype)\n",
        "w2 = torch.randn(H, D_out, device=device, dtype=dtype)\n",
        "\n",
        "learning_rate = 1e-6\n",
        "for t in range(500):\n",
        "    # 순전파 단계: 예측값 y를 계산합니다.\n",
        "    h = x.mm(w1)\n",
        "    h_relu = h.clamp(min=0)\n",
        "    y_pred = h_relu.mm(w2)\n",
        "\n",
        "    # 손실(loss)을 계산하고 출력합니다.\n",
        "    loss = (y_pred - y).pow(2).sum().item()\n",
        "    if t % 100 == 99:\n",
        "        print(t, loss)\n",
        "\n",
        "    # 손실에 따른 w1, w2의 변화도를 계산하고 역전파합니다.\n",
        "    grad_y_pred = 2.0 * (y_pred - y)\n",
        "    grad_w2 = h_relu.t().mm(grad_y_pred)\n",
        "    grad_h_relu = grad_y_pred.mm(w2.t())\n",
        "    grad_h = grad_h_relu.clone()\n",
        "    grad_h[h < 0] = 0\n",
        "    grad_w1 = x.t().mm(grad_h)\n",
        "\n",
        "    # 경사하강법(gradient descent)를 사용하여 가중치를 갱신합니다.\n",
        "    w1 -= learning_rate * grad_w1\n",
        "    w2 -= learning_rate * grad_w2"
      ],
      "execution_count": null,
      "outputs": []
    },
    {
      "cell_type": "markdown",
      "metadata": {
        "id": "1WhLtpLOZMg9"
      },
      "source": [
        "# Autograd\n",
        "## PyTorch: Tensor와 autograd\n"
      ]
    },
    {
      "cell_type": "code",
      "metadata": {
        "colab": {
          "base_uri": "https://localhost:8080/"
        },
        "id": "TpgKPoMJZRxN",
        "outputId": "fff91b1a-e095-4a1c-d3c4-82e7dea59fbb"
      },
      "source": [
        "# -*- coding: utf-8 -*-\n",
        "import torch\n",
        "\n",
        "dtype = torch.float\n",
        "device = torch.device(\"cpu\")\n",
        "# device = torch.device(\"cuda:0\") # GPU에서 실행하려면 이 주석을 제거하세요.\n",
        "\n",
        "# N은 배치 크기이며, D_in은 입력의 차원입니다;\n",
        "# H는 은닉층의 차원이며, D_out은 출력 차원입니다.\n",
        "N, D_in, H, D_out = 64, 1000, 100, 10\n",
        "\n",
        "# 입력과 출력을 저장하기 위해 무작위 값을 갖는 Tensor를 생성합니다.\n",
        "# requires_grad=False로 설정하여 역전파 중에 이 Tensor들에 대한 변화도를 계산할\n",
        "# 필요가 없음을 나타냅니다. (requres_grad의 기본값이 False이므로 아래 코드에는\n",
        "# 이를 반영하지 않았습니다.)\n",
        "x = torch.randn(N, D_in, device=device, dtype=dtype)\n",
        "y = torch.randn(N, D_out, device=device, dtype=dtype)\n",
        "\n",
        "# 가중치를 저장하기 위해 무작위 값을 갖는 Tensor를 생성합니다.\n",
        "# requires_grad=True로 설정하여 역전파 중에 이 Tensor들에 대한\n",
        "# 변화도를 계산할 필요가 있음을 나타냅니다.\n",
        "w1 = torch.randn(D_in, H, device=device, dtype=dtype, requires_grad=True)\n",
        "w2 = torch.randn(H, D_out, device=device, dtype=dtype, requires_grad=True)\n",
        "\n",
        "learning_rate = 1e-6\n",
        "for t in range(500):\n",
        "    # 순전파 단계: Tensor 연산을 사용하여 예상되는 y 값을 계산합니다. 이는 Tensor를\n",
        "    # 사용한 순전파 단계와 완전히 동일하지만, 역전파 단계를 별도로 구현하지 않아도\n",
        "    # 되므로 중간값들에 대한 참조(reference)를 갖고 있을 필요가 없습니다.\n",
        "    y_pred = x.mm(w1).clamp(min=0).mm(w2)\n",
        "\n",
        "    # Tensor 연산을 사용하여 손실을 계산하고 출력합니다.\n",
        "    # loss는 (1,) 형태의 Tensor이며, loss.item()은 loss의 스칼라 값입니다.\n",
        "    loss = (y_pred - y).pow(2).sum()\n",
        "    if t % 100 == 99:\n",
        "        print(t, loss.item())\n",
        "\n",
        "    # autograd를 사용하여 역전파 단계를 계산합니다. 이는 requires_grad=True를\n",
        "    # 갖는 모든 Tensor에 대해 손실의 변화도를 계산합니다. 이후 w1.grad와 w2.grad는\n",
        "    # w1과 w2 각각에 대한 손실의 변화도를 갖는 Tensor가 됩니다.\n",
        "    loss.backward()\n",
        "\n",
        "    # 경사하강법(gradient descent)을 사용하여 가중치를 수동으로 갱신합니다.\n",
        "    # torch.no_grad()로 감싸는 이유는 가중치들이 requires_grad=True이지만\n",
        "    # autograd에서는 이를 추적할 필요가 없기 때문입니다.\n",
        "    # 다른 방법은 weight.data 및 weight.grad.data를 조작하는 방법입니다.\n",
        "    # tensor.data가 tensor의 저장공간을 공유하기는 하지만, 이력을\n",
        "    # 추적하지 않는다는 것을 기억하십시오.\n",
        "    # 또한, 이를 위해 torch.optim.SGD 를 사용할 수도 있습니다.\n",
        "    with torch.no_grad():\n",
        "        w1 -= learning_rate * w1.grad\n",
        "        w2 -= learning_rate * w2.grad\n",
        "\n",
        "        # 가중치 갱신 후에는 수동으로 변화도를 0으로 만듭니다.\n",
        "        w1.grad.zero_()\n",
        "        w2.grad.zero_()"
      ],
      "execution_count": 3,
      "outputs": [
        {
          "output_type": "stream",
          "text": [
            "99 1627.558349609375\n",
            "199 37.869361877441406\n",
            "299 1.4727799892425537\n",
            "399 0.06842923909425735\n",
            "499 0.0038644508458673954\n"
          ],
          "name": "stdout"
        }
      ]
    },
    {
      "cell_type": "markdown",
      "metadata": {
        "id": "3f4yeSXRaj5t"
      },
      "source": [
        "# PyTorch: 새 autograd 함수 정의하기\n",
        "\n",
        "내부적으로, autograd의 기본(primitive) 연산자는 실제로 Tensor를 조작하는 2개의 함수입니다. forward 함수는 입력 Tensor로부터 출력 Tensor를 계산합니다. backward 함수는 어떤 스칼라 값에 대한 출력 Tensor의 변화도를 전달받고, 동일한 스칼라 값에 대한 입력 Tensor의 변화도를 계산합니다.\n",
        "\n",
        "PyTorch에서 torch.autograd.Function 의 서브클래스(subclass)를 정의하고 forward 와 backward 함수를 구현함으로써 사용자 정의 autograd 연산자를 손쉽게 정의할 수 있습니다. 그 후, 인스턴스(instance)를 생성하고 이를 함수처럼 호출하여 입력 데이터를 갖는 Tensor를 전달하는 식으로 새로운 autograd 연산자를 사용할 수 있습니다.\n",
        "\n",
        "이 예제에서는 ReLU로 비선형적(nonlinearity)으로 동작하는 사용자 정의 autograd 함수를 정의하고, 2-계층 신경망에 이를 적용해보도록 하겠습니다:"
      ]
    },
    {
      "cell_type": "code",
      "metadata": {
        "colab": {
          "base_uri": "https://localhost:8080/"
        },
        "id": "X74-HF5yasTu",
        "outputId": "fb1d2255-4c32-4860-e45a-ae9cc3c09954"
      },
      "source": [
        "class MyReLU(torch.autograd.Function):\n",
        "    \"\"\"\n",
        "    torch.autograd.Function을 상속받아 사용자 정의 autograd Function을 구현하고,\n",
        "    Tensor 연산을 하는 순전파와 역전파 단계를 구현하겠습니다.\n",
        "    \"\"\"\n",
        "\n",
        "    @staticmethod\n",
        "    def forward(ctx, input):\n",
        "      \"\"\"\n",
        "      순전파 단계에서는 입력을 갖는 Tensor를 받아 출력을 갖는 Tensor를 반환합니다.\n",
        "      ctx는 컨텍스트 객체(context object)로 역전파 연산을 위한 정보 저장에\n",
        "      사용합니다. ctx.save_for_backward method를 사용하여 역전파 단계에서 사용할 어떠한\n",
        "      객체도 저장(cache)해 둘 수 있습니다.\n",
        "      \"\"\"\n",
        "      ctx.save_for_backward(input)\n",
        "      return input.clamp(min=0)\n",
        "\n",
        "    @staticmethod\n",
        "    def backward(ctx, grad_output):\n",
        "      \"\"\"\n",
        "      역전파 단계에서는 출력에 대한 손실의 변화도를 갖는 Tensor를 받고, 입력에\n",
        "      대한 손실의 변화도를 계산합니다.\n",
        "      \"\"\"\n",
        "      input, = ctx.saved_tensors \n",
        "      grad_input = grad_output.clone()\n",
        "      grad_input[input < 0] = 0\n",
        "      return grad_input\n",
        "\n",
        "dtype = torch.float\n",
        "device = torch.device(\"cpu\")\n",
        "# device = torch.device(\"cuda:0\") # GPU에서 실행하려면 이 주석을 제거하세요.\n",
        "\n",
        "# N은 배치 크기이며, D_in은 입력의 차원입니다;\n",
        "# H는 은닉층의 차원이며, D_out은 출력 차원입니다.\n",
        "N, D_in, H, D_out = 64, 1000, 100, 10\n",
        "\n",
        "# 입력과 출력을 저장하기 위해 무작위 값을 갖는 Tensor를 생성합니다.\n",
        "x = torch.randn(N, D_in, device=device, dtype=dtype)\n",
        "y = torch.randn(N, D_out, device=device, dtype=dtype)\n",
        "\n",
        "# 가중치를 저장하기 위해 무작위 값을 갖는 Tensor를 생성합니다.\n",
        "w1 = torch.randn(D_in, H, device=device, dtype=dtype, requires_grad=True)\n",
        "w2 = torch.randn(H, D_out, device=device, dtype=dtype, requires_grad=True)\n",
        "\n",
        "learning_rate = 1e-6\n",
        "for t in range(500):\n",
        "    # 사용자 정의 Function을 적용하기 위해 Function.apply 메소드를 사용합니다.\n",
        "    # 여기에 'relu'라는 이름을 붙였습니다.\n",
        "    relu = MyReLU.apply\n",
        "\n",
        "    # 순전파 단계: Tensor 연산을 사용하여 예상되는 y 값을 계산합니다;\n",
        "    # 사용자 정의 autograd 연산을 사용하여 ReLU를 계산합니다.\n",
        "    y_pred = relu(x.mm(w1)).mm(w2)\n",
        "\n",
        "    # 손실을 계산하고 출력합니다.\n",
        "    loss = (y_pred - y).pow(2).sum()\n",
        "    if t % 100 == 99:\n",
        "        print(t, loss.item())\n",
        "\n",
        "    # autograde를 사용하여 역전파 단계를 계산합니다.\n",
        "    loss.backward()\n",
        "\n",
        "    # 경사하강법(gradient descent)을 사용하여 가중치를 갱신합니다.\n",
        "    with torch.no_grad():\n",
        "        w1 -= learning_rate * w1.grad\n",
        "        w2 -= learning_rate * w2.grad\n",
        "\n",
        "        # 가중치 갱신 후에는 수동으로 변화도를 0으로 만듭니다.\n",
        "        w1.grad.zero_()\n",
        "        w2.grad.zero_()"
      ],
      "execution_count": 5,
      "outputs": [
        {
          "output_type": "stream",
          "text": [
            "99 538.4742431640625\n",
            "199 1.6545765399932861\n",
            "299 0.010262757539749146\n",
            "399 0.000255489518167451\n",
            "499 4.360983075457625e-05\n"
          ],
          "name": "stdout"
        }
      ]
    },
    {
      "cell_type": "markdown",
      "metadata": {
        "id": "AXZeO9n1gaSc"
      },
      "source": [
        "# nn 모듈\n",
        "## PyTorch:nn\n"
      ]
    },
    {
      "cell_type": "code",
      "metadata": {
        "colab": {
          "base_uri": "https://localhost:8080/"
        },
        "id": "7IQauxbRgq57",
        "outputId": "a0014fba-0874-490e-c532-37779ded7365"
      },
      "source": [
        "import torch\n",
        "\n",
        "# N은 배치 크기이며, D_in은 입력의 차원입니다;\n",
        "# H는 은닉층의 차원이며, D_out은 출력 차원입니다.\n",
        "N, D_in, H, D_out = 64, 1000, 100, 10\n",
        "\n",
        "# 입력과 출력을 저장하기 위해 무작위 값을 갖는 Tensor를 생성합니다.\n",
        "x = torch.randn(N, D_in)\n",
        "y = torch.randn(N, D_out)\n",
        "\n",
        "# nn 패키지를 사용하여 모델을 순차적 계층(sequence of layers)으로 정의합니다.\n",
        "# nn.Sequential은 다른 Module들을 포함하는 Module로, 그 Module들을 순차적으로\n",
        "# 적용하여 출력을 생성합니다. 각각의 Linear Module은 선형 함수를 사용하여\n",
        "# 입력으로부터 출력을 계산하고, 내부 Tensor에 가중치와 편향을 저장합니다.\n",
        "model = torch.nn.Sequential(\n",
        "    torch.nn.Linear(D_in,H),\n",
        "    torch.nn.ReLU(),\n",
        "    torch.nn.Linear(H, D_out),\n",
        ")\n",
        "\n",
        "# 또한 nn 패키지에는 널리 사용하는 손실 함수들에 대한 정의도 포함하고 있습니다;\n",
        "# 여기에서는 평균 제곱 오차(MSE; Mean Squared Error)를 손실 함수로 사용하겠습니다.\n",
        "loss_fn = torch.nn.MSELoss(reduction='sum')\n",
        "\n",
        "learning_rate = 1e-4\n",
        "for t in range(500):\n",
        "    # 순전파 단계: 모델에 x를 전달하여 예상되는 y 값을 계산합니다. Module 객체는\n",
        "    # __call__ 연산자를 덮어써(override) 함수처럼 호출할 수 있게 합니다.\n",
        "    # 이렇게 함으로써 입력 데이터의 Tensor를 Module에 전달하여 출력 데이터의\n",
        "    # Tensor를 생성합니다.\n",
        "    y_pred = model(x)\n",
        "\n",
        "     # 손실을 계산하고 출력합니다. 예측한 y와 정답인 y를 갖는 Tensor들을 전달하고,\n",
        "    # 손실 함수는 손실 값을 갖는 Tensor를 반환합니다.\n",
        "    loss = loss_fn(y_pred, y)\n",
        "    if t % 100 == 99:\n",
        "        print(t, loss.item())\n",
        "\n",
        "    # 역전판 단계를 실행하기 전에 변화도를 0으로 만듭니다\n",
        "    model.zero_grad()\n",
        "    \n",
        "    # 역전파 단계: 모델의 학습 가능한 모든 매개변수에 대해 손실의 변화도를\n",
        "    # 계산합니다. 내부적으로 각 Module의 매개변수는 requires_grad=True 일 때\n",
        "    # Tensor 내에 저장되므로, 이 호출은 모든 모델의 모든 학습 가능한 매개변수의\n",
        "    # 변화도를 계산하게 됩니다.\n",
        "    loss.backward()\n",
        "\n",
        "    # 경사하강법(gradient descent)를 사용하여 가중치를 갱신합니다. 각 매개변수는\n",
        "    # Tensor이므로 이전에 했던 것과 같이 변화도에 접근할 수 있습니다.\n",
        "    with torch.no_grad():\n",
        "        for param in model.parameters():\n",
        "            param -= learning_rate * param.grad\n",
        "\n",
        "\n"
      ],
      "execution_count": 6,
      "outputs": [
        {
          "output_type": "stream",
          "text": [
            "99 2.609828472137451\n",
            "199 0.04509288817644119\n",
            "299 0.00144193135201931\n",
            "399 6.551075784955174e-05\n",
            "499 3.869337888318114e-06\n"
          ],
          "name": "stdout"
        }
      ]
    },
    {
      "cell_type": "markdown",
      "metadata": {
        "id": "UIz63jOFh2zs"
      },
      "source": [
        "# PyTorch: optim\n",
        "\n",
        "지금까지는 (autograd의 추적 기록을 피하기 위해 torch.no_grad () 또는 .data 를 사용하는 식으로) 학습 가능한 매개변수를 갖는 Tensor를 직접 조작하며 모델의 가중치를 갱신하였습니다. 이것은 확률적 경사 하강법(SGD)과 같은 간단한 최적화 알고리즘에서는 크게 부담이 되지는 않지만, 실제로 신경망을 학습할 때는 주로 AdaGrad, RMSProp, Adam 등과 같은 좀 더 정교한 Optimizer를 사용하곤 합니다.\n",
        "\n",
        "PyTorch의 optim 패키지는 최적화 알고리즘에 대한 아이디어를 추상화하고 일반적으로 사용하는 최적화 알고리즘의 구현체(implementation)를 제공합니다.\n",
        "\n",
        "이 에제에서는 지금까지와 같이 nn 패키지를 사용하여 모델을 정의하지만, optim 패키지가 제공하는 Adam 알고리즘을 이용하여 모델을 최적화하겠습니다:"
      ]
    },
    {
      "cell_type": "code",
      "metadata": {
        "colab": {
          "base_uri": "https://localhost:8080/"
        },
        "id": "HsQ18oILh5FF",
        "outputId": "485b493c-f735-439c-aa30-273e5d2cd221"
      },
      "source": [
        "N, D_in, H, D_out = 64, 1000, 100, 10\n",
        "\n",
        "# 입력과 출력을 저장하기 위해 무작위 값을 갖는 Tensor를 생성합니다.\n",
        "x = torch.randn(N, D_in)\n",
        "y = torch.randn(N, D_out)\n",
        "\n",
        "# nn 패키지를 사용하여 모델과 손실 함수를 정의합니다.\n",
        "model = torch.nn.Sequential(\n",
        "    torch.nn.Linear(D_in, H),\n",
        "    torch.nn.ReLU(),\n",
        "    torch.nn.Linear(H, D_out),\n",
        ")\n",
        "loss_fn = torch.nn.MSELoss(reduction='sum')\n",
        "\n",
        "# optim 패키지를 사용하여 모델의 가중치를 갱신할 Optimizer를 정의합니다.\n",
        "# 여기서는 Adam을 사용하겠습니다; optim 패키지는 다른 다양한 최적화 알고리즘을\n",
        "# 포함하고 있습니다. Adam 생성자의 첫번째 인자는 어떤 Tensor가 갱신되어야 하는지\n",
        "# 알려줍니다.\n",
        "learning_rate = 1e-4\n",
        "optimizer = torch.optim.Adam(model.parameters(), lr=learning_rate)\n",
        "for t in range(500):\n",
        "    # 순전파 단계: 모델에 x를 전달하여 예상되는 y 값을 계산합니다.\n",
        "    y_pred = model(x)\n",
        "\n",
        "    # 손실을 계산하고 출력합니다.\n",
        "    loss = loss_fn(y_pred, y)\n",
        "    if t % 100 == 99:\n",
        "        print(t, loss.item())\n",
        "\n",
        "    # 역전파 단계 전에, Optimizer 객체를 사용하여 (모델의 학습 가능한 가중치인)\n",
        "    # 갱신할 변수들에 대한 모든 변화도를 0으로 만듭니다. 이렇게 하는 이유는\n",
        "    # 기본적으로 .backward()를 호출할 때마다 변화도가 버퍼(buffer)에 (덮어쓰지 않고)\n",
        "    # 누적되기 때문입니다. 더 자세한 내용은 torch.autograd.backward에 대한 문서를\n",
        "    # 참조하세요.\n",
        "    optimizer.zero_grad()\n",
        "\n",
        "    # 역전파 단계: 모델의 매개변수에 대한 손실의 변화도를 계산합니다.\n",
        "    loss.backward()\n",
        "\n",
        "    # Optimizer의 step 함수를 호출하면 매개변수가 갱신됩니다.\n",
        "    optimizer.step()"
      ],
      "execution_count": 7,
      "outputs": [
        {
          "output_type": "stream",
          "text": [
            "99 52.59210205078125\n",
            "199 0.6819092035293579\n",
            "299 0.0028101964853703976\n",
            "399 3.4761831102514407e-06\n",
            "499 9.480907170456021e-10\n"
          ],
          "name": "stdout"
        }
      ]
    },
    {
      "cell_type": "markdown",
      "metadata": {
        "id": "V1FLBWBficV3"
      },
      "source": [
        "# PyTorch: 사용자 정의 nn.Module\n",
        "때때로 기존 모듈의 구성(sequence)보다 더 복잡한 모델을 구성해야 할 때가 있습니다; 이럴 때는 nn.Module 의 서브클래스로 새 모듈을 정의하고, 입력 Tensor를 받아 다른 모듈 또는 Tensor의 autograd 연산을 사용하여 출력 Tensor를 만드는 forward 를 정의합니다.\n",
        "\n",
        "이 예제에서는 2계층 신경망을 직접 정의한 nn.Module 서브클래스로 구현해보겠습니다:"
      ]
    },
    {
      "cell_type": "code",
      "metadata": {
        "colab": {
          "base_uri": "https://localhost:8080/"
        },
        "id": "qYZyeSNniheV",
        "outputId": "7d924b72-7364-4b37-e2f4-3de53a669ea8"
      },
      "source": [
        "import torch\n",
        "\n",
        "class TwoLayerNet(torch.nn.Module):\n",
        "  def __init__(self,D_in, H, D_out):\n",
        "    \"\"\"\n",
        "    생성자에서 2개의 nn.Liear 모듈을 생성하고, 멤버 변수로 지정합니다.\n",
        "    \"\"\"\n",
        "    super(TwoLayerNet, self).__init__()\n",
        "    self.linear1 = torch.nn.Linear(D_in,H)\n",
        "    self.linear2 = torch.nn.Linear(H, D_out)\n",
        "\n",
        "  def forward(self, x):\n",
        "    h_relu = self.linear1(x).clamp(min=0)\n",
        "    y_pred = self.linear2(h_relu)\n",
        "    return y_pred\n",
        "\n",
        "# N은 배치 크기이며, D_in은 입력의 차원입니다;\n",
        "# H는 은닉층의 차원이며, D_out은 출력 차원입니다.\n",
        "N, D_in, H, D_out = 64, 1000, 100, 10\n",
        "\n",
        "# 입력과 출력을 저장하기 위해 무작위 값을 갖는 Tensor를 생성합니다.\n",
        "x = torch.randn(N, D_in)\n",
        "y = torch.randn(N, D_out)\n",
        "\n",
        "# 앞에서 정의한 클래스를 생성하여 모델을 구성합니다.\n",
        "model = TwoLayerNet(D_in, H, D_out)\n",
        "\n",
        "# 손실 함수와 Optimizer를 만듭니다. SGD 생성자에 model.parameters()를 호출하면\n",
        "# 모델의 멤버인 2개의 nn.Linear 모듈의 학습 가능한 매개변수들이 포함됩니다.\n",
        "criterion = torch.nn.MSELoss(reduction='sum')\n",
        "optimizer = torch.optim.SGD(model.parameters(), lr=1e-4)\n",
        "for t in range(500):\n",
        "    # 순전파 단계: 모델에 x를 전달하여 예상되는 y 값을 계산합니다.\n",
        "    y_pred = model(x)\n",
        "\n",
        "    # 손실을 계산하고 출력합니다.\n",
        "    loss = criterion(y_pred, y)\n",
        "    if t % 100 == 99:\n",
        "        print(t, loss.item())\n",
        "\n",
        "    # 변화도를 0으로 만들고, 역전파 단계를 수행하고, 가중치를 갱신합니다.\n",
        "    optimizer.zero_grad()\n",
        "    loss.backward()\n",
        "    optimizer.step()"
      ],
      "execution_count": 11,
      "outputs": [
        {
          "output_type": "stream",
          "text": [
            "99 2.1907694339752197\n",
            "199 0.02488555945456028\n",
            "299 0.0005759327323175967\n",
            "399 1.7262464098166674e-05\n",
            "499 5.814075620946824e-07\n"
          ],
          "name": "stdout"
        }
      ]
    },
    {
      "cell_type": "markdown",
      "metadata": {
        "id": "RD-w8F7bmVWN"
      },
      "source": [
        "# PyTorch: 제어 흐름(Control Flow) + 가중치 공유(Weight Sharing)\n",
        "동적 그래프와 가중치 공유의 예로, 매우 이상한 모델을 구현해보겠습니다: 각 순전파 단계에서 많은 은닉 계층을 갖는 완전히 연결(fully-connected)된 ReLU 신경망이 무작위로 0 ~ 3 사이의 숫자를 선택하고, 가장 안쪽(innermost)의 은닉층들을 계산하기 위해 동일한 가중치를 여러 번 재사용합니다.\n",
        "\n",
        "이 모델에서는 일반적인 Python 제어 흐름을 사용하여 반복(loop)을 구현할 수 있으며, 순전파 단계를 정의할 때 단지 동일한 Module을 여러번 재사용함으로써 내부(innermost) 계층들 간의 가중치 공유를 구현할 수 있습니다.\n",
        "\n",
        "이러한 모델을 Module을 상속받는 서브클래스로 간단히 구현해보겠습니다:"
      ]
    },
    {
      "cell_type": "code",
      "metadata": {
        "colab": {
          "base_uri": "https://localhost:8080/"
        },
        "id": "zRVlZ3Fzmd_v",
        "outputId": "508d7d3b-e084-4e4a-b6d5-7a1722ca4806"
      },
      "source": [
        "import random\n",
        "import torch\n",
        "import torch.nn as nn\n",
        "\n",
        "class DynamicNet(torch.nn.Module):\n",
        "  def __init__(self, D_in, H, D_out):\n",
        "    \"\"\"\n",
        "    생성자에서 순전파 단계에서 상요할 3개의 nn.Linear 인스턴스를 생성\n",
        "    \"\"\"\n",
        "    super(DynamicNet, self).__init__()\n",
        "    self.input_linear = nn.Linear(D_in, H)\n",
        "    self.middle_linear = nn.Linear(H, H)\n",
        "    self.output_linear = nn.Linear(H, D_out)\n",
        "\n",
        "  def forward(self, x):\n",
        "    \"\"\"\n",
        "    모델의 순전파 단계에서, 무작위로 0, 1, 2 또는 3 중에 하나를 선택하고\n",
        "    은닉층을 계산하기 위해 여러번 사용한 middle_linear Module을 재사용합니다.\n",
        "\n",
        "    각 순전파 단계는 동적 연산 그래프를 구성하기 때문에, 모델의 순전파 단계를\n",
        "    정의할 때 반복문이나 조건문과 같은 일반적인 Python 제어 흐름 연산자를 사용할\n",
        "    수 있습니다.\n",
        "\n",
        "    여기에서 연산 그래프를 정의할 때 동일 Module을 여러번 재사용하는 것이\n",
        "    완벽히 안전하다는 것을 알 수 있습니다. 이것이 각 Module을 한 번씩만 사용할\n",
        "    수 있었던 Lua Torch보다 크게 개선된 부분입니다.\n",
        "    \"\"\"\n",
        "    h_relu = self.input_linear(x).clamp(min=0)\n",
        "    for _ in range(random.randint(0,3)):\n",
        "      h_relu = self.middle_linear(h_relu).clamp(min=0)\n",
        "    y_pred = self.output_linear(h_relu)\n",
        "    return y_pred \n",
        "\n",
        "# N은 배치 크기이며, D_in은 입력의 차원입니다;\n",
        "# H는 은닉층의 차원이며, D_out은 출력 차원입니다.\n",
        "N, D_in, H, D_out = 64, 1000, 100, 10\n",
        "\n",
        "# 입력과 출력을 저장하기 위해 무작위 값을 갖는 Tensor를 생성합니다.\n",
        "x = torch.randn(N, D_in)\n",
        "y = torch.randn(N, D_out)\n",
        "\n",
        "# 앞서 정의한 클래스를 생성(instantiating)하여 모델을 구성합니다.\n",
        "model = DynamicNet(D_in, H, D_out)\n",
        "\n",
        "# 손실함수와 Optimizer를 만듭니다. 이 이상한 모델을 순수한 확률적 경사 하강법\n",
        "# (stochastic gradient decent)으로 학습하는 것은 어려우므로, 모멘텀(momentum)을\n",
        "# 사용합니다.\n",
        "criterion = torch.nn.MSELoss(reduction='sum')\n",
        "optimizer = torch.optim.SGD(model.parameters(), lr=1e-4, momentum=0.9)\n",
        "for t in range(500):\n",
        "    # 순전파 단계: 모델에 x를 전달하여 예상되는 y 값을 계산합니다.\n",
        "    y_pred = model(x)\n",
        "\n",
        "    # 손실을 계산하고 출력합니다.\n",
        "    loss = criterion(y_pred, y)\n",
        "    if t % 100 == 99:\n",
        "        print(t, loss.item())\n",
        "\n",
        "    # 변화도를 0으로 만들고, 역전파 단계를 수행하고, 가중치를 갱신합니다.\n",
        "    optimizer.zero_grad()\n",
        "    loss.backward()\n",
        "    optimizer.step()"
      ],
      "execution_count": 16,
      "outputs": [
        {
          "output_type": "stream",
          "text": [
            "99 136.33151245117188\n",
            "199 0.5404046773910522\n",
            "299 0.22790497541427612\n",
            "399 0.617210328578949\n",
            "499 0.39131349325180054\n"
          ],
          "name": "stdout"
        }
      ]
    }
  ]
}
